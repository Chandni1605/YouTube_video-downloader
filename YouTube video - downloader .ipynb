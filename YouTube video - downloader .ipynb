{
 "cells": [
  {
   "cell_type": "code",
   "execution_count": 1,
   "id": "ae0a25ba-61ef-4ca2-892b-f10570194719",
   "metadata": {},
   "outputs": [
    {
     "name": "stdout",
     "output_type": "stream",
     "text": [
      "Requirement already satisfied: pytube3 in /opt/anaconda3/lib/python3.12/site-packages (9.6.4)\n",
      "Requirement already satisfied: typing-extensions in /opt/anaconda3/lib/python3.12/site-packages (from pytube3) (4.11.0)\n",
      "Note: you may need to restart the kernel to use updated packages.\n"
     ]
    }
   ],
   "source": [
    "pip install pytube3"
   ]
  },
  {
   "cell_type": "code",
   "execution_count": 3,
   "id": "eb05fea3-0adf-4026-acc5-2344e9368ec4",
   "metadata": {},
   "outputs": [
    {
     "name": "stdout",
     "output_type": "stream",
     "text": [
      "Requirement already satisfied: pytube in /opt/anaconda3/lib/python3.12/site-packages (15.0.0)\n",
      "Note: you may need to restart the kernel to use updated packages.\n"
     ]
    }
   ],
   "source": [
    "pip install --upgrade pytube"
   ]
  },
  {
   "cell_type": "code",
   "execution_count": 5,
   "id": "c7249f31-b99b-4a69-9e71-8bb7b0b9aba9",
   "metadata": {},
   "outputs": [],
   "source": [
    "from pytube import YouTube"
   ]
  },
  {
   "cell_type": "code",
   "execution_count": 7,
   "id": "8b132262-7894-4fbc-aead-97b7eb8cbf7a",
   "metadata": {},
   "outputs": [
    {
     "name": "stdout",
     "output_type": "stream",
     "text": [
      "Requirement already satisfied: yt-dlp in /opt/anaconda3/lib/python3.12/site-packages (2024.8.6)\n",
      "Requirement already satisfied: brotli in /opt/anaconda3/lib/python3.12/site-packages (from yt-dlp) (1.0.9)\n",
      "Requirement already satisfied: certifi in /opt/anaconda3/lib/python3.12/site-packages (from yt-dlp) (2024.7.4)\n",
      "Requirement already satisfied: mutagen in /opt/anaconda3/lib/python3.12/site-packages (from yt-dlp) (1.47.0)\n",
      "Requirement already satisfied: pycryptodomex in /opt/anaconda3/lib/python3.12/site-packages (from yt-dlp) (3.20.0)\n",
      "Requirement already satisfied: requests<3,>=2.32.2 in /opt/anaconda3/lib/python3.12/site-packages (from yt-dlp) (2.32.2)\n",
      "Requirement already satisfied: urllib3<3,>=1.26.17 in /opt/anaconda3/lib/python3.12/site-packages (from yt-dlp) (2.2.2)\n",
      "Requirement already satisfied: websockets>=12.0 in /opt/anaconda3/lib/python3.12/site-packages (from yt-dlp) (13.0.1)\n",
      "Requirement already satisfied: charset-normalizer<4,>=2 in /opt/anaconda3/lib/python3.12/site-packages (from requests<3,>=2.32.2->yt-dlp) (2.0.4)\n",
      "Requirement already satisfied: idna<4,>=2.5 in /opt/anaconda3/lib/python3.12/site-packages (from requests<3,>=2.32.2->yt-dlp) (3.7)\n",
      "Note: you may need to restart the kernel to use updated packages.\n"
     ]
    }
   ],
   "source": [
    "pip install yt-dlp"
   ]
  },
  {
   "cell_type": "code",
   "execution_count": 9,
   "id": "fa126aa4-e55d-4876-a750-ce768788bafe",
   "metadata": {},
   "outputs": [
    {
     "name": "stdin",
     "output_type": "stream",
     "text": [
      "Enter Youtube video https://youtu.be/rqt9y9EqyeQ?si=VcopVIfHuQCt114f\n"
     ]
    }
   ],
   "source": [
    "link = input(\"Enter Youtube video\")\n",
    "yt = YouTube(link)"
   ]
  },
  {
   "cell_type": "code",
   "execution_count": 11,
   "id": "479a90d5-a1b5-4d5c-99de-195079652a83",
   "metadata": {},
   "outputs": [
    {
     "name": "stdout",
     "output_type": "stream",
     "text": [
      "Title : Husan Tera Toba Toba (Official Video) Karan Aujla | Tauba Tauba |Vicky Kaushal,Tripti| New Song 2024\n",
      "Views : 5738550\n",
      "Duration : 263\n",
      "Description : None\n",
      "Ratings : None\n"
     ]
    }
   ],
   "source": [
    "print(\"Title :\" , yt.title)\n",
    "print(\"Views :\" , yt.views)\n",
    "print(\"Duration :\" , yt.length)\n",
    "print(\"Description :\" , yt.description)\n",
    "print(\"Ratings :\" , yt.rating)"
   ]
  },
  {
   "cell_type": "code",
   "execution_count": 19,
   "id": "68d5863e-12a3-4a87-97d3-402bb818eeb7",
   "metadata": {},
   "outputs": [
    {
     "name": "stdin",
     "output_type": "stream",
     "text": [
      "Do you want to download this video? (yes/no):  yes\n"
     ]
    },
    {
     "name": "stdout",
     "output_type": "stream",
     "text": [
      "Downloading...\n",
      "[youtube] Extracting URL: https://youtu.be/rqt9y9EqyeQ?si=VcopVIfHuQCt114f\n",
      "[youtube] rqt9y9EqyeQ: Downloading webpage\n",
      "[youtube] rqt9y9EqyeQ: Downloading ios player API JSON\n",
      "[youtube] rqt9y9EqyeQ: Downloading web creator player API JSON\n",
      "[youtube] rqt9y9EqyeQ: Downloading player 3abab6ef\n",
      "[youtube] rqt9y9EqyeQ: Downloading m3u8 information\n",
      "[info] rqt9y9EqyeQ: Downloading 1 format(s): 18\n",
      "[download] Destination: Husan Tera Toba Toba (Official Video) Karan Aujla ｜ Tauba Tauba ｜Vicky Kaushal,Tripti｜ New Song 2024 [rqt9y9EqyeQ].mp4\n",
      "[download] 100% of    5.94MiB in 00:00:00 at 5.98MiB/s   \n",
      "Download completed\n"
     ]
    }
   ],
   "source": [
    "from yt_dlp import YoutubeDL\n",
    "\n",
    "download_option = input(\"Do you want to download this video? (yes/no): \").lower()\n",
    "\n",
    "if download_option == \"yes\":\n",
    "    url = 'https://youtu.be/rqt9y9EqyeQ?si=VcopVIfHuQCt114f'\n",
    "    ydl_opts = {'format' : 'best'}\n",
    "    with YoutubeDL(ydl_opts) as ydl:\n",
    "        print(\"Downloading...\")\n",
    "        ydl.download([url])\n",
    "        print(\"Download completed\")\n",
    "else:\n",
    "    print(\"Download aborted.\")"
   ]
  },
  {
   "cell_type": "code",
   "execution_count": 21,
   "id": "95f82791-cd76-4404-ae15-aafee3a1420e",
   "metadata": {},
   "outputs": [
    {
     "data": {
      "text/plain": [
       "'/Users/chandnisingh'"
      ]
     },
     "execution_count": 21,
     "metadata": {},
     "output_type": "execute_result"
    }
   ],
   "source": [
    "import os\n",
    "os.getcwd()"
   ]
  },
  {
   "cell_type": "code",
   "execution_count": null,
   "id": "f3d26115-22f6-484d-9d92-05972293f897",
   "metadata": {},
   "outputs": [],
   "source": []
  }
 ],
 "metadata": {
  "kernelspec": {
   "display_name": "Python 3 (ipykernel)",
   "language": "python",
   "name": "python3"
  },
  "language_info": {
   "codemirror_mode": {
    "name": "ipython",
    "version": 3
   },
   "file_extension": ".py",
   "mimetype": "text/x-python",
   "name": "python",
   "nbconvert_exporter": "python",
   "pygments_lexer": "ipython3",
   "version": "3.12.4"
  }
 },
 "nbformat": 4,
 "nbformat_minor": 5
}
